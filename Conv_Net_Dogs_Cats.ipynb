{
 "cells": [
  {
   "cell_type": "code",
   "execution_count": null,
   "metadata": {},
   "outputs": [],
   "source": [
    "#from tensorflow.python.client import device_lib\n",
    "#print(device_lib.list_local_devices())\n",
    "#!pip install tensorflow-gpu==1.10.0"
   ]
  },
  {
   "cell_type": "code",
   "execution_count": 1,
   "metadata": {},
   "outputs": [],
   "source": [
    "import tensorflow as tf\n",
    "from tensorflow.keras.models import Sequential\n",
    "from tensorflow.keras.layers import Dense, Dropout, Activation, Flatten, Conv2D, MaxPooling2D\n",
    "import pickle\n",
    "\n",
    "#gpu_options = tf.GPUOptions(per_process_gpu_memory_fraction=0.333)\n",
    "#sess = tf.Session(config=tf.ConfigProto(gpu_options=gpu_options))\n",
    "\n",
    "#config = tf.ConfigProto(device_count = {'GPU': 1, 'CPU': 4})\n",
    "#sess = tf.Session(config=config)\n",
    "#tf.keras.backend.set_session(sess)\n",
    "\n",
    "X_train = pickle.load(open('X_train.pickle','rb'))\n",
    "y_train = pickle.load(open('y_train.pickle','rb'))\n",
    "\n",
    "# normalize feature data\n",
    "X_train = X_train/255.0"
   ]
  },
  {
   "cell_type": "code",
   "execution_count": 2,
   "metadata": {},
   "outputs": [
    {
     "data": {
      "text/plain": [
       "array([[[0.18431373],\n",
       "        [0.12941176],\n",
       "        [0.63529412],\n",
       "        ...,\n",
       "        [0.62352941],\n",
       "        [0.61960784],\n",
       "        [0.61568627]],\n",
       "\n",
       "       [[0.50196078],\n",
       "        [0.68235294],\n",
       "        [0.61960784],\n",
       "        ...,\n",
       "        [0.62352941],\n",
       "        [0.62745098],\n",
       "        [0.63137255]],\n",
       "\n",
       "       [[0.63137255],\n",
       "        [0.61568627],\n",
       "        [0.74117647],\n",
       "        ...,\n",
       "        [0.60392157],\n",
       "        [0.62352941],\n",
       "        [0.63137255]],\n",
       "\n",
       "       ...,\n",
       "\n",
       "       [[0.39607843],\n",
       "        [0.41176471],\n",
       "        [0.38431373],\n",
       "        ...,\n",
       "        [0.58039216],\n",
       "        [0.58039216],\n",
       "        [0.55294118]],\n",
       "\n",
       "       [[0.39607843],\n",
       "        [0.44705882],\n",
       "        [0.43921569],\n",
       "        ...,\n",
       "        [0.58039216],\n",
       "        [0.58039216],\n",
       "        [0.55686275]],\n",
       "\n",
       "       [[0.41176471],\n",
       "        [0.45098039],\n",
       "        [0.45098039],\n",
       "        ...,\n",
       "        [0.56470588],\n",
       "        [0.56862745],\n",
       "        [0.56862745]]])"
      ]
     },
     "execution_count": 2,
     "metadata": {},
     "output_type": "execute_result"
    }
   ],
   "source": [
    "X_train[1]"
   ]
  },
  {
   "cell_type": "code",
   "execution_count": 3,
   "metadata": {},
   "outputs": [
    {
     "data": {
      "text/plain": [
       "1"
      ]
     },
     "execution_count": 3,
     "metadata": {},
     "output_type": "execute_result"
    }
   ],
   "source": [
    "y_train[1]"
   ]
  },
  {
   "cell_type": "code",
   "execution_count": 4,
   "metadata": {},
   "outputs": [],
   "source": [
    "model = Sequential()\n",
    "\n",
    "# \n",
    "# (3,3) is th kernel size\n",
    "# X_train.shape[1:] is to leave out the -1 from the last data notebook\n",
    "model.add(Conv2D(64, (3,3), input_shape = X_train.shape[1:]))\n",
    "model.add(Activation('relu'))\n",
    "model.add(MaxPooling2D(pool_size=(2,2)))\n",
    "\n",
    "model.add(Conv2D(64, (3,3)))\n",
    "model.add(Activation('relu'))\n",
    "model.add(MaxPooling2D(pool_size=(2,2)))\n",
    "\n",
    "model.add(Flatten())\n",
    "model.add(Dense(64))\n",
    "model.add(Activation('relu'))\n",
    "\n",
    "model.add(Dense(1))\n",
    "model.add(Activation('sigmoid'))\n",
    "\n",
    "model.compile(loss='binary_crossentropy',\n",
    "             optimizer='adam',\n",
    "             metrics=['accuracy'])"
   ]
  },
  {
   "cell_type": "code",
   "execution_count": 6,
   "metadata": {},
   "outputs": [
    {
     "name": "stdout",
     "output_type": "stream",
     "text": [
      "Train on 22451 samples, validate on 2495 samples\n",
      "Epoch 1/10\n",
      "22451/22451 [==============================] - 5s 230us/step - loss: 0.4182 - acc: 0.8070 - val_loss: 0.4448 - val_acc: 0.7916\n",
      "Epoch 2/10\n",
      "22451/22451 [==============================] - 5s 227us/step - loss: 0.3781 - acc: 0.8293 - val_loss: 0.4463 - val_acc: 0.7960\n",
      "Epoch 3/10\n",
      "22451/22451 [==============================] - 5s 230us/step - loss: 0.3461 - acc: 0.8452 - val_loss: 0.4499 - val_acc: 0.8092\n",
      "Epoch 4/10\n",
      "22451/22451 [==============================] - 5s 230us/step - loss: 0.3062 - acc: 0.8661 - val_loss: 0.4428 - val_acc: 0.8044\n",
      "Epoch 5/10\n",
      "22451/22451 [==============================] - 5s 233us/step - loss: 0.2610 - acc: 0.8888 - val_loss: 0.4473 - val_acc: 0.8136\n",
      "Epoch 6/10\n",
      "22451/22451 [==============================] - 5s 227us/step - loss: 0.2155 - acc: 0.9096 - val_loss: 0.5029 - val_acc: 0.8076\n",
      "Epoch 7/10\n",
      "22451/22451 [==============================] - 5s 228us/step - loss: 0.1718 - acc: 0.9319 - val_loss: 0.5549 - val_acc: 0.7792\n",
      "Epoch 8/10\n",
      "22451/22451 [==============================] - 5s 228us/step - loss: 0.1261 - acc: 0.9532 - val_loss: 0.6163 - val_acc: 0.8020\n",
      "Epoch 9/10\n",
      "22451/22451 [==============================] - 5s 234us/step - loss: 0.0925 - acc: 0.9660 - val_loss: 0.7185 - val_acc: 0.7892\n",
      "Epoch 10/10\n",
      "22451/22451 [==============================] - 5s 229us/step - loss: 0.0677 - acc: 0.9765 - val_loss: 0.7814 - val_acc: 0.7912\n"
     ]
    },
    {
     "data": {
      "text/plain": [
       "<tensorflow.python.keras.callbacks.History at 0x7f04d579d320>"
      ]
     },
     "execution_count": 6,
     "metadata": {},
     "output_type": "execute_result"
    }
   ],
   "source": [
    "model.fit(X_train, y_train, batch_size=32, epochs=10, validation_split=0.1)"
   ]
  },
  {
   "cell_type": "code",
   "execution_count": null,
   "metadata": {},
   "outputs": [],
   "source": [
    "input_shape = X_train.shape[1:]"
   ]
  },
  {
   "cell_type": "code",
   "execution_count": null,
   "metadata": {},
   "outputs": [],
   "source": [
    "input_shape"
   ]
  },
  {
   "cell_type": "code",
   "execution_count": null,
   "metadata": {},
   "outputs": [],
   "source": []
  },
  {
   "cell_type": "code",
   "execution_count": null,
   "metadata": {},
   "outputs": [],
   "source": []
  }
 ],
 "metadata": {
  "kernelspec": {
   "display_name": "Python 3",
   "language": "python",
   "name": "python3"
  },
  "language_info": {
   "codemirror_mode": {
    "name": "ipython",
    "version": 3
   },
   "file_extension": ".py",
   "mimetype": "text/x-python",
   "name": "python",
   "nbconvert_exporter": "python",
   "pygments_lexer": "ipython3",
   "version": "3.5.2"
  }
 },
 "nbformat": 4,
 "nbformat_minor": 2
}
